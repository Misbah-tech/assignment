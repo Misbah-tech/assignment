{
 "cells": [
  {
   "cell_type": "markdown",
   "metadata": {},
   "source": [
    "# Q1:"
   ]
  },
  {
   "cell_type": "markdown",
   "metadata": {},
   "source": [
    "Think of at least three kinds of your favorite pizza. Store these pizza names in a list, and then use a for loop to print the name of each pizza."
   ]
  },
  {
   "cell_type": "code",
   "execution_count": 59,
   "metadata": {},
   "outputs": [
    {
     "name": "stdout",
     "output_type": "stream",
     "text": [
      "fajita\n",
      "chicken tikka\n",
      "pepproni\n"
     ]
    }
   ],
   "source": [
    "favorite_pizza=[\"fajita\",\"chicken tikka\", \"pepproni\"]\n",
    "for i in range (1):\n",
    "    print(favorite_pizza[0])\n",
    "    print(favorite_pizza[1])\n",
    "    print(favorite_pizza[2])"
   ]
  },
  {
   "cell_type": "code",
   "execution_count": null,
   "metadata": {},
   "outputs": [],
   "source": []
  },
  {
   "cell_type": "code",
   "execution_count": null,
   "metadata": {},
   "outputs": [],
   "source": []
  },
  {
   "cell_type": "markdown",
   "metadata": {},
   "source": [
    "# Q2"
   ]
  },
  {
   "cell_type": "markdown",
   "metadata": {},
   "source": [
    "Start with your last question , Modify your for loop to print a sentence using the name of the pizza\n",
    "instead of printing just the name of the pizza. For each pizza you should\n",
    "have one line of output containing a simple statement like I like pepperoni\n",
    "pizza."
   ]
  },
  {
   "cell_type": "code",
   "execution_count": 60,
   "metadata": {},
   "outputs": [
    {
     "name": "stdout",
     "output_type": "stream",
     "text": [
      "i dont like fajita pizza\n",
      "i really like chicken tikka pizza\n",
      "pepproni is my favorite pizza\n"
     ]
    }
   ],
   "source": [
    "favorite_pizza=[\"fajita\",\"chicken tikka\", \"pepproni\"]\n",
    "for i in range (1):\n",
    "    print(\"i dont like\", favorite_pizza[0]  , \"pizza\")\n",
    "    print(\"i really like\", favorite_pizza[1]  , \"pizza\")\n",
    "    print(favorite_pizza[2]  , \"is my favorite pizza\")"
   ]
  },
  {
   "cell_type": "code",
   "execution_count": null,
   "metadata": {},
   "outputs": [],
   "source": []
  },
  {
   "cell_type": "code",
   "execution_count": null,
   "metadata": {},
   "outputs": [],
   "source": []
  },
  {
   "cell_type": "markdown",
   "metadata": {},
   "source": [
    "# Q3:"
   ]
  },
  {
   "cell_type": "markdown",
   "metadata": {},
   "source": [
    "Use a for loop to print the numbers from 1 to 20,\n",
    "inclusive."
   ]
  },
  {
   "cell_type": "code",
   "execution_count": 61,
   "metadata": {},
   "outputs": [
    {
     "name": "stdout",
     "output_type": "stream",
     "text": [
      "0 1 2 3 4 5 6 7 8 9 10 11 12 13 14 15 16 17 18 19 20 "
     ]
    }
   ],
   "source": [
    "for i in range(21):\n",
    "    print (i , end= ' ')"
   ]
  },
  {
   "cell_type": "code",
   "execution_count": null,
   "metadata": {},
   "outputs": [],
   "source": []
  },
  {
   "cell_type": "code",
   "execution_count": null,
   "metadata": {},
   "outputs": [],
   "source": []
  },
  {
   "cell_type": "markdown",
   "metadata": {},
   "source": [
    "# Q4:"
   ]
  },
  {
   "cell_type": "markdown",
   "metadata": {},
   "source": [
    "Use the third argument of the range() function to make a list\n",
    "of the odd numbers from 1 to 20. Use a for loop to print each number."
   ]
  },
  {
   "cell_type": "code",
   "execution_count": 62,
   "metadata": {},
   "outputs": [
    {
     "name": "stdout",
     "output_type": "stream",
     "text": [
      "1 3 5 7 9 11 13 15 17 19 "
     ]
    }
   ],
   "source": [
    "for odd_numbers in range(1 , 20 , 2):\n",
    "    print(odd_numbers , end = ' ')"
   ]
  },
  {
   "cell_type": "code",
   "execution_count": null,
   "metadata": {},
   "outputs": [],
   "source": []
  },
  {
   "cell_type": "code",
   "execution_count": null,
   "metadata": {},
   "outputs": [],
   "source": []
  },
  {
   "cell_type": "markdown",
   "metadata": {},
   "source": [
    "# Q5:"
   ]
  },
  {
   "cell_type": "markdown",
   "metadata": {},
   "source": [
    "Make a list of the multiples of 3 from 3 to 30. Use a for loop to\n",
    "print the numbers in your list."
   ]
  },
  {
   "cell_type": "code",
   "execution_count": 63,
   "metadata": {},
   "outputs": [
    {
     "name": "stdout",
     "output_type": "stream",
     "text": [
      "3 6 9 12 15 18 21 24 27 30 "
     ]
    }
   ],
   "source": [
    "for multiple in list(range(3,31,3)):\n",
    "    print(multiple , end = ' ')"
   ]
  },
  {
   "cell_type": "code",
   "execution_count": null,
   "metadata": {},
   "outputs": [],
   "source": []
  },
  {
   "cell_type": "code",
   "execution_count": null,
   "metadata": {},
   "outputs": [],
   "source": []
  },
  {
   "cell_type": "code",
   "execution_count": null,
   "metadata": {},
   "outputs": [],
   "source": []
  },
  {
   "cell_type": "markdown",
   "metadata": {},
   "source": [
    "# Q6:"
   ]
  },
  {
   "cell_type": "markdown",
   "metadata": {},
   "source": [
    "A number raised to the third power is called a cube. For example,\n",
    "the cube of 2 is written as 2**3 in Python. Make a list of the first 10 cubes (that\n",
    "is, the cube of each integer from 1 through 10), and use a for loop to print out\n",
    "the value of each cube"
   ]
  },
  {
   "cell_type": "code",
   "execution_count": 64,
   "metadata": {},
   "outputs": [
    {
     "name": "stdout",
     "output_type": "stream",
     "text": [
      "1 8 27 64 125 216 343 512 729 1000 "
     ]
    }
   ],
   "source": [
    "for cubed_number in range(1 , 11):\n",
    "    print(cubed_number**3 , end = ' ')"
   ]
  },
  {
   "cell_type": "code",
   "execution_count": null,
   "metadata": {},
   "outputs": [],
   "source": []
  },
  {
   "cell_type": "code",
   "execution_count": null,
   "metadata": {},
   "outputs": [],
   "source": []
  },
  {
   "cell_type": "code",
   "execution_count": null,
   "metadata": {},
   "outputs": [],
   "source": []
  },
  {
   "cell_type": "markdown",
   "metadata": {},
   "source": [
    "# Q7:"
   ]
  },
  {
   "cell_type": "markdown",
   "metadata": {},
   "source": [
    "###### Make a python program that conatains your nine favourite dishes in a list called foods.\n",
    "\n",
    "###### Print the message, The first three items in the list are:. \n",
    "###### Then use a slice to print the first three items from that program’s list.\n",
    "\n",
    "###### Print the message, Three items from the middle of the list are:\n",
    "###### Use a slice to print three items from the middle of the list.\n",
    "\n",
    "###### Print the message, The last three items in the list are:\n",
    "###### Use a slice to print the last three items in the list."
   ]
  },
  {
   "cell_type": "code",
   "execution_count": 65,
   "metadata": {},
   "outputs": [
    {
     "name": "stdout",
     "output_type": "stream",
     "text": [
      "the first three item in the list are ['biryani', 'karahi', 'fish fried']\n",
      "the three item from the middlelist are ['singaporean rice', 'white kari', 'custurd']\n",
      "the last three item in the list are ['kheer', 'mango delight', 'chicken shashilk']\n"
     ]
    }
   ],
   "source": [
    "food=[\"biryani\" , \"karahi\" , \"fish fried\" , \"singaporean rice\" , \"white kari\" , \"custurd\" , \"kheer\" , \"mango delight\" , \"chicken shashilk\"]\n",
    "print(\"the first three item in the list are\" , food[0:3])\n",
    "print(\"the three item from the middlelist are\" , food[3:6])\n",
    "print(\"the last three item in the list are\" , food[6:10])"
   ]
  },
  {
   "cell_type": "code",
   "execution_count": null,
   "metadata": {},
   "outputs": [],
   "source": []
  },
  {
   "cell_type": "code",
   "execution_count": null,
   "metadata": {},
   "outputs": [],
   "source": []
  },
  {
   "cell_type": "code",
   "execution_count": null,
   "metadata": {},
   "outputs": [],
   "source": []
  },
  {
   "cell_type": "code",
   "execution_count": null,
   "metadata": {},
   "outputs": [],
   "source": []
  },
  {
   "cell_type": "code",
   "execution_count": null,
   "metadata": {},
   "outputs": [],
   "source": []
  },
  {
   "cell_type": "code",
   "execution_count": null,
   "metadata": {},
   "outputs": [],
   "source": []
  },
  {
   "cell_type": "markdown",
   "metadata": {},
   "source": [
    "# Q8:"
   ]
  },
  {
   "cell_type": "markdown",
   "metadata": {},
   "source": [
    "### Start with your program from your last Question8.\n",
    "###### Make a copy of the list of foods, and call it friend_foods.\n",
    "###### Then, do the following:\n",
    "######    Add a new dish to the original list.\n",
    "######    Add a different dish to the list friend_foodss.\n",
    "######    Prove that you have two separate lists. \n",
    "###### Print the message, My favorite pizzas are: and then use a for loop to print the first list. \n",
    "###### Print the message,\n",
    "###### My friend’s favorite foods are:, and then use a for loop to print the second list.\n",
    "    \n",
    "##### NOTE: Make sure each new dish is stored in the appropriate list."
   ]
  },
  {
   "cell_type": "code",
   "execution_count": 66,
   "metadata": {},
   "outputs": [],
   "source": [
    "food=[\"biryani\" , \"karahi\" , \"fish fried\" , \"singaporean rice\" , \"white kari\" , \"custurd\" , \"kheer\" , \"mango delight\" , \"chicken shashilk\"]\n",
    "friend_foods=[\"biryani\" , \"karahi\" , \"fish fried\" , \"singaporean rice\" , \"white kari\" , \"custurd\" , \"kheer\" , \"mango delight\" , \"chicken shashilk\"]\n",
    "food.insert(0 , \"broast\")\n",
    "friend_foods.append(\"shawarma\")"
   ]
  },
  {
   "cell_type": "code",
   "execution_count": 67,
   "metadata": {},
   "outputs": [
    {
     "name": "stdout",
     "output_type": "stream",
     "text": [
      "['biryani', 'karahi', 'fish fried', 'singaporean rice', 'white kari', 'custurd', 'kheer', 'mango delight', 'chicken shashilk', 'shawarma']\n"
     ]
    }
   ],
   "source": [
    "print(friend_foods)"
   ]
  },
  {
   "cell_type": "code",
   "execution_count": 68,
   "metadata": {},
   "outputs": [
    {
     "name": "stdout",
     "output_type": "stream",
     "text": [
      "['broast', 'biryani', 'karahi', 'fish fried', 'singaporean rice', 'white kari', 'custurd', 'kheer', 'mango delight', 'chicken shashilk']\n"
     ]
    }
   ],
   "source": [
    "print(food)"
   ]
  },
  {
   "cell_type": "code",
   "execution_count": 69,
   "metadata": {},
   "outputs": [
    {
     "name": "stdout",
     "output_type": "stream",
     "text": [
      "my favorite food is broast\n",
      "my favorite food is biryani\n",
      "my favorite food is karahi\n",
      "my favorite food is fish fried\n",
      "my favorite food is singaporean rice\n",
      "my favorite food is white kari\n",
      "my favorite food is custurd\n",
      "my favorite food is kheer\n",
      "my favorite food is mango delight\n",
      "my favorite food is chicken shashilk\n"
     ]
    }
   ],
   "source": [
    "for i in food :\n",
    " print(\"my favorite food is\"  , i)"
   ]
  },
  {
   "cell_type": "code",
   "execution_count": 70,
   "metadata": {},
   "outputs": [
    {
     "name": "stdout",
     "output_type": "stream",
     "text": [
      "my favorite food is biryani\n",
      "my favorite food is karahi\n",
      "my favorite food is fish fried\n",
      "my favorite food is singaporean rice\n",
      "my favorite food is white kari\n",
      "my favorite food is custurd\n",
      "my favorite food is kheer\n",
      "my favorite food is mango delight\n",
      "my favorite food is chicken shashilk\n",
      "my favorite food is shawarma\n"
     ]
    }
   ],
   "source": [
    "for i in friend_foods :\n",
    " print(\"my favorite food is\"  , i)"
   ]
  },
  {
   "cell_type": "code",
   "execution_count": null,
   "metadata": {},
   "outputs": [],
   "source": [
    " "
   ]
  },
  {
   "cell_type": "code",
   "execution_count": null,
   "metadata": {},
   "outputs": [],
   "source": []
  },
  {
   "cell_type": "markdown",
   "metadata": {},
   "source": [
    "# Q9:"
   ]
  },
  {
   "cell_type": "markdown",
   "metadata": {},
   "source": [
    "Take a user input from console line.Store it in a variable called Alien_color.\n",
    "\n",
    "If the alien’s color is red, print a statement that the player just earned 5 points for shooting the alien.\n",
    "\n",
    "If the alien’s color isn’t green, print a statement that the player just earned 10 points.\n",
    "\n",
    "If the alien's color isn't red or green , print a statment :, Alien is no more....."
   ]
  },
  {
   "cell_type": "code",
   "execution_count": 71,
   "metadata": {},
   "outputs": [
    {
     "name": "stdout",
     "output_type": "stream",
     "text": [
      "enter any color :red\n",
      "the player just earned 5 points for shooting the alien\n"
     ]
    }
   ],
   "source": [
    "Alien_color=input(\"enter any color :\")\n",
    "if Alien_color==\"red\" :\n",
    "    print(\"the player just earned 5 points for shooting the alien\")\n",
    "elif Alien_color==\"green\":\n",
    "    print(\"the player just earned 10 points\")\n",
    "else:\n",
    "    print(\"Alien is no more\")    "
   ]
  },
  {
   "cell_type": "code",
   "execution_count": 72,
   "metadata": {},
   "outputs": [
    {
     "name": "stdout",
     "output_type": "stream",
     "text": [
      "enter any color :green\n",
      "the player just earned 10 points\n"
     ]
    }
   ],
   "source": [
    "Alien_color=input(\"enter any color :\")\n",
    "if Alien_color==\"red\" :\n",
    "    print(\"the player just earned 5 points for shooting the alien\")\n",
    "elif Alien_color==\"green\":\n",
    "    print(\"the player just earned 10 points\")\n",
    "else:\n",
    "    print(\"Alien is no more\")    "
   ]
  },
  {
   "cell_type": "code",
   "execution_count": 73,
   "metadata": {},
   "outputs": [
    {
     "name": "stdout",
     "output_type": "stream",
     "text": [
      "enter any color :black\n",
      "Alien is no more\n"
     ]
    }
   ],
   "source": [
    "Alien_color=input(\"enter any color :\")\n",
    "if Alien_color==\"red\" :\n",
    "    print(\"the player just earned 5 points for shooting the alien\")\n",
    "elif Alien_color==\"green\":\n",
    "    print(\"the player just earned 10 points\")\n",
    "else:\n",
    "    print(\"Alien is no more\")    "
   ]
  },
  {
   "cell_type": "code",
   "execution_count": null,
   "metadata": {},
   "outputs": [],
   "source": []
  },
  {
   "cell_type": "markdown",
   "metadata": {},
   "source": [
    "# Q10:"
   ]
  },
  {
   "cell_type": "markdown",
   "metadata": {},
   "source": [
    "Write an if-elif-else chain that determines a person’s\n",
    "stage of life. Set a value for the variable age, and then:\n",
    "    \n",
    "•\t If the person is less than 2 years old, print a message that the person is a baby.\n",
    "\n",
    "•\t If the person is at least 2 years old but less than 4, print a message that the person is a toddler.\n",
    "\n",
    "•\t If the person is at least 4 years old but less than 13, print a message that the person is a kid.\n",
    "\n",
    "•\t If the person is at least 13 years old but less than 20, print a message that the person is a teenager.\n",
    "\n",
    "•\t If the person is at least 20 years old but less than 65, print a message that the person is an adult.\n",
    "\n",
    "•\t If the person is age 65 or older, print a message that the person is an elder."
   ]
  },
  {
   "cell_type": "code",
   "execution_count": 74,
   "metadata": {},
   "outputs": [
    {
     "name": "stdout",
     "output_type": "stream",
     "text": [
      "Enter to determine person's stage of life1\n",
      "person is baby\n"
     ]
    }
   ],
   "source": [
    "age= int(input(\"Enter to determine person's stage of life\"))\n",
    "if age < 2:\n",
    "    print(\"person is baby\")\n",
    "elif age >= 2 and age <=4:\n",
    "    print(\"person is toddler\")\n",
    "elif age >= 4 and age <=13:\n",
    "    print(\"person is kid\")\n",
    "elif age >= 13 and age <=20:\n",
    "    print(\"person is teenager\")\n",
    "elif age >=20 and age <=65:\n",
    "    print(\"person is adult\")\n",
    "else:\n",
    "    print(\"person is elder\")"
   ]
  },
  {
   "cell_type": "code",
   "execution_count": 75,
   "metadata": {},
   "outputs": [
    {
     "name": "stdout",
     "output_type": "stream",
     "text": [
      "Enter to determine person's stage of life3\n",
      "person is toddler\n"
     ]
    }
   ],
   "source": [
    "age= int(input(\"Enter to determine person's stage of life\"))\n",
    "if age < 2:\n",
    "    print(\"person is baby\")\n",
    "elif age >= 2 and age <=4:\n",
    "    print(\"person is toddler\")\n",
    "elif age >= 4 and age <=13:\n",
    "    print(\"person is kid\")\n",
    "elif age >= 13 and age <=20:\n",
    "    print(\"person is teenager\")\n",
    "elif age >=20 and age <=65:\n",
    "    print(\"person is adult\")\n",
    "else:\n",
    "    print(\"person is elder\")"
   ]
  },
  {
   "cell_type": "code",
   "execution_count": 76,
   "metadata": {},
   "outputs": [
    {
     "name": "stdout",
     "output_type": "stream",
     "text": [
      "Enter to determine person's stage of life14\n",
      "person is teenager\n"
     ]
    }
   ],
   "source": [
    "age= int(input(\"Enter to determine person's stage of life\"))\n",
    "if age < 2:\n",
    "    print(\"person is baby\")\n",
    "elif age >= 2 and age <=4:\n",
    "    print(\"person is toddler\")\n",
    "elif age >= 4 and age <=13:\n",
    "    print(\"person is kid\")\n",
    "elif age >= 13 and age <=20:\n",
    "    print(\"person is teenager\")\n",
    "elif age >=20 and age <=65:\n",
    "    print(\"person is adult\")\n",
    "else:\n",
    "    print(\"person is elder\")"
   ]
  },
  {
   "cell_type": "code",
   "execution_count": 77,
   "metadata": {},
   "outputs": [
    {
     "name": "stdout",
     "output_type": "stream",
     "text": [
      "Enter to determine person's stage of life30\n",
      "person is adult\n"
     ]
    }
   ],
   "source": [
    "age= int(input(\"Enter to determine person's stage of life\"))\n",
    "if age < 2:\n",
    "    print(\"person is baby\")\n",
    "elif age >= 2 and age <=4:\n",
    "    print(\"person is toddler\")\n",
    "elif age >= 4 and age <=13:\n",
    "    print(\"person is kid\")\n",
    "elif age >= 13 and age <=20:\n",
    "    print(\"person is teenager\")\n",
    "elif age >=20 and age <=65:\n",
    "    print(\"person is adult\")\n",
    "else:\n",
    "    print(\"person is elder\")"
   ]
  },
  {
   "cell_type": "code",
   "execution_count": 78,
   "metadata": {},
   "outputs": [
    {
     "name": "stdout",
     "output_type": "stream",
     "text": [
      "Enter to determine person's stage of life70\n",
      "person is elder\n"
     ]
    }
   ],
   "source": [
    "age= int(input(\"Enter to determine person's stage of life\"))\n",
    "if age < 2:\n",
    "    print(\"person is baby\")\n",
    "elif age >= 2 and age <=4:\n",
    "    print(\"person is toddler\")\n",
    "elif age >= 4 and age <=13:\n",
    "    print(\"person is kid\")\n",
    "elif age >= 13 and age <=20:\n",
    "    print(\"person is teenager\")\n",
    "elif age >=20 and age <=65:\n",
    "    print(\"person is adult\")\n",
    "else:\n",
    "    print(\"person is elder\")"
   ]
  },
  {
   "cell_type": "code",
   "execution_count": null,
   "metadata": {},
   "outputs": [],
   "source": []
  },
  {
   "cell_type": "markdown",
   "metadata": {},
   "source": [
    "# Q11:"
   ]
  },
  {
   "cell_type": "markdown",
   "metadata": {},
   "source": [
    "Do the following to create a program that simulates how websites ensure that everyone has a unique username.\n",
    "\n",
    "•\t Make a list of five or more usernames called current_users.\n",
    "\n",
    "•\t Make another list of five usernames called new_users. \n",
    "Make sure one or two of the new usernames are also in the current_users list.\n",
    "\n",
    "•\t Loop through the new_users list to see if each new username has already been used. \n",
    "If it has, print a message that the person will need to enter a new username. \n",
    "If a username has not been used, print a message saying that the username is available.\n",
    "\n",
    "•\t Make sure your comparison is case insensitive. If 'John' has been used, 'JOHN' should not be accepted."
   ]
  },
  {
   "cell_type": "code",
   "execution_count": 2,
   "metadata": {},
   "outputs": [
    {
     "name": "stdout",
     "output_type": "stream",
     "text": [
      "hiba is used, you have to enter a new username\n",
      "sadaf is available\n",
      "saba is available\n",
      "tayyaba is available\n",
      "Mustafa is used, you have to enter a new username\n"
     ]
    }
   ],
   "source": [
    "current_users=[\"hiba\" , \"Mustafa\" , \"Misbah\" , \"Shahan\" , \"Ahmed\" , \"Mansoor\" , \"Sikander\" , \"Shahbaz\"]\n",
    "new_users=[\"hiba\" , \"sadaf\" , \"saba\" , \"tayyaba\" , \"Mustafa\"]\n",
    "for i in new_users:\n",
    "    if i in current_users:\n",
    "        print(f\"{i} is used, you have to enter a new username\")\n",
    "    else:\n",
    "        print(f\"{i} is available\")"
   ]
  },
  {
   "cell_type": "code",
   "execution_count": null,
   "metadata": {},
   "outputs": [],
   "source": []
  },
  {
   "cell_type": "code",
   "execution_count": null,
   "metadata": {},
   "outputs": [],
   "source": []
  },
  {
   "cell_type": "code",
   "execution_count": null,
   "metadata": {},
   "outputs": [],
   "source": []
  },
  {
   "cell_type": "markdown",
   "metadata": {},
   "source": [
    "# Q12:"
   ]
  },
  {
   "cell_type": "markdown",
   "metadata": {},
   "source": [
    "Use a dictionary to store information about a person you know.\n",
    "Store their first name, last name, age, and the city in which they live. \n",
    "You should have keys such as first_name, last_name, age, and city. \n",
    "Print each piece of information stored in your dictionary"
   ]
  },
  {
   "cell_type": "code",
   "execution_count": 4,
   "metadata": {},
   "outputs": [
    {
     "name": "stdout",
     "output_type": "stream",
     "text": [
      "first name : shahan\n",
      "last name : ali\n",
      "age : 28\n",
      "city : karachi\n"
     ]
    }
   ],
   "source": [
    "person_information={'first name' : 'shahan' , 'last name' : 'ali' , 'age' : '28'  , 'city' : 'karachi'}\n",
    "for key,value in person_information.items():\n",
    "    print (key + \" : \" + value)"
   ]
  },
  {
   "cell_type": "code",
   "execution_count": null,
   "metadata": {},
   "outputs": [],
   "source": []
  },
  {
   "cell_type": "code",
   "execution_count": null,
   "metadata": {},
   "outputs": [],
   "source": []
  },
  {
   "cell_type": "code",
   "execution_count": null,
   "metadata": {},
   "outputs": [],
   "source": []
  },
  {
   "cell_type": "markdown",
   "metadata": {},
   "source": [
    "# Q13:"
   ]
  },
  {
   "cell_type": "markdown",
   "metadata": {},
   "source": [
    "Starts with your last question 12 , loop through the dictionary’s keys and values.\n",
    "When you’re sure that your loop works, add five more Python terms to your\n",
    "dictionary . When you run your program again, these new words and meanings\n",
    "should automatically be included in the output."
   ]
  },
  {
   "cell_type": "code",
   "execution_count": 6,
   "metadata": {},
   "outputs": [
    {
     "name": "stdout",
     "output_type": "stream",
     "text": [
      "first name : shahan\n",
      "last name : ali\n",
      "age : 28\n",
      "city : karachi\n",
      "father_name : muhammad ismail\n",
      "country : pakistan\n",
      "qualification : masters\n",
      "hobbies : reading\n",
      "fav subject : maths\n"
     ]
    }
   ],
   "source": [
    "person_information['father_name']='muhammad ismail'\n",
    "person_information['country']='pakistan'\n",
    "person_information['qualification']='masters'\n",
    "person_information['hobbies']='reading'\n",
    "person_information['fav subject']='maths'\n",
    "for key,value in person_information.items():\n",
    "    print (key + \" : \" + value)"
   ]
  },
  {
   "cell_type": "code",
   "execution_count": null,
   "metadata": {},
   "outputs": [],
   "source": []
  },
  {
   "cell_type": "code",
   "execution_count": null,
   "metadata": {},
   "outputs": [],
   "source": []
  },
  {
   "cell_type": "code",
   "execution_count": null,
   "metadata": {},
   "outputs": [],
   "source": []
  },
  {
   "cell_type": "code",
   "execution_count": null,
   "metadata": {},
   "outputs": [],
   "source": []
  },
  {
   "cell_type": "markdown",
   "metadata": {},
   "source": [
    "# Q14:"
   ]
  },
  {
   "cell_type": "markdown",
   "metadata": {},
   "source": [
    "Make a dictionary containing three major rivers and the country\n",
    "each river runs through. One key-value pair might be 'nile': 'egypt'.\n",
    "    \n",
    "    \n",
    "•\t Use a loop to print a sentence about each river, such as The Nile runs\n",
    "through Egypt.\n",
    "\n",
    "NOTE: use upper case through keys and values."
   ]
  },
  {
   "cell_type": "code",
   "execution_count": 6,
   "metadata": {},
   "outputs": [
    {
     "name": "stdout",
     "output_type": "stream",
     "text": [
      "NILE runs through EGYPT\n",
      "SUTLEJ runs through PUNJAB\n",
      "SAKHI RIVER runs through INDIA\n"
     ]
    }
   ],
   "source": [
    "rivers={'nile':'egypt', 'sutlej':'punjab' , 'sakhi river' : 'india'}\n",
    "for k, v in rivers.items():\n",
    "    print(f\"{k.upper()} runs through {v.upper()}\")"
   ]
  },
  {
   "cell_type": "code",
   "execution_count": null,
   "metadata": {},
   "outputs": [],
   "source": []
  },
  {
   "cell_type": "code",
   "execution_count": null,
   "metadata": {},
   "outputs": [],
   "source": []
  },
  {
   "cell_type": "markdown",
   "metadata": {},
   "source": [
    "# Q15:"
   ]
  },
  {
   "cell_type": "markdown",
   "metadata": {},
   "source": [
    "Make several dictionaries, where the name of each dictionary is the\n",
    "name of a pet. In each dictionary, include the kind of animal and the owner’s\n",
    "name. Store these dictionaries in a list called pets. Next, loop through your list\n",
    "and as you do print everything you know about each pet."
   ]
  },
  {
   "cell_type": "code",
   "execution_count": 58,
   "metadata": {},
   "outputs": [
    {
     "name": "stdout",
     "output_type": "stream",
     "text": [
      "SNAPPY is a  CAT of  HIBA\n",
      "KITTY is a  DOG of  MUSTAFA\n",
      "JESSY is a  HORSE of  SHAHAN\n"
     ]
    }
   ],
   "source": [
    "snappy = {\"name\":'snappy' , \"kind\":'cat' , \"owner's name\":'Hiba'}\n",
    "kitty = {\"name\":'kitty' , \"kind\":'dog'  , \"owner's name\":'mustafa'}\n",
    "jessy = {\"name\":'jessy' , \"kind\":'horse' , \"owner's name\":'shahan'}\n",
    "pets = [snappy,kitty,jessy]\n",
    "for i in pets:\n",
    "     print(i[\"name\"].upper() , \"is a \" , i[\"kind\"].upper() , \"of \" , i[\"owner's name\"].upper())"
   ]
  },
  {
   "cell_type": "code",
   "execution_count": null,
   "metadata": {},
   "outputs": [],
   "source": []
  },
  {
   "cell_type": "code",
   "execution_count": null,
   "metadata": {},
   "outputs": [],
   "source": []
  }
 ],
 "metadata": {
  "kernelspec": {
   "display_name": "Python 3",
   "language": "python",
   "name": "python3"
  },
  "language_info": {
   "codemirror_mode": {
    "name": "ipython",
    "version": 3
   },
   "file_extension": ".py",
   "mimetype": "text/x-python",
   "name": "python",
   "nbconvert_exporter": "python",
   "pygments_lexer": "ipython3",
   "version": "3.7.3"
  }
 },
 "nbformat": 4,
 "nbformat_minor": 2
}
